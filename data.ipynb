{
 "cells": [
  {
   "cell_type": "markdown",
   "metadata": {},
   "source": [
    "# Datenbereinigung"
   ]
  },
  {
   "cell_type": "code",
   "execution_count": null,
   "metadata": {},
   "outputs": [],
   "source": [
    "import pandas as pd\n",
    "import plotly.express as px\n",
    "import geopandas as gpd\n",
    "import matplotlib.pyplot as plt\n",
    "import json"
   ]
  },
  {
   "cell_type": "code",
   "execution_count": null,
   "metadata": {},
   "outputs": [],
   "source": [
    "#mapbox token definition\n",
    "mapbox_token = \"pk.eyJ1IjoicHl0aG9ucyIsImEiOiJja2s2dzhmMjcwODM3MndueGR5Y3E4b2QxIn0.09n-pctdAFhEa4NrPbE6MA\"\n",
    "px.set_mapbox_access_token(mapbox_token)"
   ]
  },
  {
   "cell_type": "code",
   "execution_count": null,
   "metadata": {},
   "outputs": [],
   "source": [
    "\n",
    "#twitter account data\n",
    "df = pd.read_csv(\"data/accounts_data.csv\")\n",
    "df = df.drop(columns = [\"Unnamed: 0\"])\n",
    "\n",
    "#wahlkreise wahlergebnisse\n",
    "wahl = pd.read_csv(\"data/wahl.csv\", sep = \";\", encoding=\"utf8\")\n",
    "\n",
    "with open(\"data/geometrie.geojson\") as f:\n",
    "    geojs = json.load(f)\n",
    "#wahlkreise shapefiles\n",
    "gj = gpd.read_file(\"data/btw17/Geometrie_Wahlkreise_19DBT_geo.shp\")\n",
    "\n",
    "#wahlkreise und twitter verbindung\n",
    "ver = pd.read_csv(\"data/verbindung.csv\", sep = \";\")"
   ]
  },
  {
   "cell_type": "code",
   "execution_count": null,
   "metadata": {},
   "outputs": [],
   "source": [
    "#better wahl data\n",
    "wahl[\"Namen\"] = wahl[\"Vorname\"] + \" \" + wahl[\"Name\"]\n",
    "wahl = wahl.drop(columns=[\"Geburtsjahr\", \"Beruf\", \"Wiedergewählt\", \"Vorname\", \"Name\"])\n",
    "wahl = wahl.dropna()\n",
    "wahl = wahl.rename(columns = {\"Gewählt_Wahlkreis_Nr\": \"WKR_NR\"} )\n"
   ]
  },
  {
   "cell_type": "code",
   "execution_count": null,
   "metadata": {},
   "outputs": [],
   "source": [
    "#merging the. shapefiles and the wahlergebnisse\n",
    "gp = pd.merge(gj, wahl, on=\"WKR_NR\", how = \"inner\")"
   ]
  },
  {
   "cell_type": "code",
   "execution_count": null,
   "metadata": {},
   "outputs": [],
   "source": [
    "#merging twitter handles and wahlen\n",
    "gp = pd.merge(ver, gp, on = \"Namen\", how = \"inner\")\n",
    "\n",
    "#creating new columns \n",
    "gp[\"Kreis\"] = gp.WKR_NR -1\n",
    "gp[\"twitter\"] = gp.name_id.notna()\n",
    "gp[\"twitter\"] = gp.twitter*1\n",
    "\n",
    "#dropping other cols\n",
    "gp = gp.drop(columns=[\"LAND_NR\", \"Gewählt_Land\",\"WKR_NAME\", \"Unnamed: 0\", \"geometry\", \"LAND_NAME\"])"
   ]
  },
  {
   "cell_type": "markdown",
   "metadata": {},
   "source": [
    "# exploration"
   ]
  },
  {
   "cell_type": "code",
   "execution_count": null,
   "metadata": {},
   "outputs": [],
   "source": [
    "#twitter datei\n",
    "df.head(2)\n"
   ]
  },
  {
   "cell_type": "code",
   "execution_count": null,
   "metadata": {},
   "outputs": [],
   "source": [
    "gj.head(2)"
   ]
  },
  {
   "cell_type": "code",
   "execution_count": null,
   "metadata": {},
   "outputs": [],
   "source": [
    "gp.head()"
   ]
  },
  {
   "cell_type": "code",
   "execution_count": null,
   "metadata": {},
   "outputs": [],
   "source": [
    "geojs[\"features\"][0][\"properties\"]"
   ]
  },
  {
   "cell_type": "code",
   "execution_count": null,
   "metadata": {},
   "outputs": [],
   "source": [
    "fig = px.choropleth_mapbox(\n",
    "    gp, geojson = geojs, featureidkey = \"properties.WKR_NR\", locations = gp.WKR_NR, \n",
    "    color = gp.Partei_KurzBez,hover_name = gp.name_id\n",
    "    )\n",
    "\n",
    "fig.update_layout(mapbox = {\n",
    "    \"center\": {\"lon\": 10.447 , \"lat\": 51.1633},\n",
    "    \"zoom\": 4\n",
    "\n",
    "    })\n",
    "fig.show()"
   ]
  },
  {
   "cell_type": "code",
   "execution_count": null,
   "metadata": {},
   "outputs": [],
   "source": [
    " namen1 = gp.name_id\n",
    " namen2 = df.name_id"
   ]
  },
  {
   "cell_type": "code",
   "execution_count": null,
   "metadata": {},
   "outputs": [],
   "source": [
    "len(set(namen1).intersection(set(namen2)))"
   ]
  },
  {
   "cell_type": "code",
   "execution_count": null,
   "metadata": {},
   "outputs": [],
   "source": [
    "set(namen1).difference(set(namen2))"
   ]
  },
  {
   "cell_type": "markdown",
   "metadata": {},
   "source": [
    "## Match Aufgaben:\n",
    "### Wahlkreise Shape und Menschen\n",
    "### Menschen und twitter Profil"
   ]
  },
  {
   "cell_type": "code",
   "execution_count": null,
   "metadata": {},
   "outputs": [],
   "source": [
    "df[df.name_id == \"@ninawarken\"]"
   ]
  },
  {
   "cell_type": "code",
   "execution_count": null,
   "metadata": {},
   "outputs": [],
   "source": []
  }
 ],
 "metadata": {
  "kernelspec": {
   "display_name": "Python 3",
   "language": "python",
   "name": "python3"
  },
  "language_info": {
   "codemirror_mode": {
    "name": "ipython",
    "version": 3
   },
   "file_extension": ".py",
   "mimetype": "text/x-python",
   "name": "python",
   "nbconvert_exporter": "python",
   "pygments_lexer": "ipython3",
   "version": "3.8.2-final"
  }
 },
 "nbformat": 4,
 "nbformat_minor": 2
}
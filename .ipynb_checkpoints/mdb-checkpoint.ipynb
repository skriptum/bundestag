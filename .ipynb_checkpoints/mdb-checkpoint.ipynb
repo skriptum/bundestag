{
 "cells": [
  {
   "cell_type": "markdown",
   "metadata": {},
   "source": [
    "# Twitter Analysis"
   ]
  },
  {
   "cell_type": "code",
   "execution_count": null,
   "metadata": {},
   "outputs": [],
   "source": [
    "import tweepy\n",
    "import pandas as pd\n",
    "import plotly.express as pd\n",
    "import time"
   ]
  },
  {
   "cell_type": "code",
   "execution_count": 42,
   "metadata": {},
   "outputs": [],
   "source": [
    "#Keys:\n",
    "\n",
    "c_k = \"zLhaEr6YbhAyUJDKykXt7rShh\"\n",
    "c_s = \"A8WoN8CERsebjyGAvTAVCDiDtixB5mQenvuszFxQ2A3YF4yc2Q\"\n",
    "\n",
    "a_t = \"1350800482378383365-TkQMNyIcvrGmPrzoGkRUk7xkS8BNjQ\"\n",
    "a_s = \"Bq7abSJ2htRLo8afP9PKh9qN4kI95VrcPBh8MjTsKH216\"\n",
    "\n",
    "#API Setting\n",
    "auth = tweepy.OAuthHandler(c_k, c_s)\n",
    "auth.set_access_token(a_t, a_s)\n",
    "api = tweepy.API(auth)"
   ]
  },
  {
   "cell_type": "code",
   "execution_count": null,
   "metadata": {},
   "outputs": [],
   "source": [
    "target = "
   ]
  },
  {
   "cell_type": "code",
   "execution_count": null,
   "metadata": {},
   "outputs": [],
   "source": [
    "#set user as target\n",
    "target = auth_api.get_user(target_user)\n",
    "\n",
    "#get users screen name and number of tweets\n",
    "screenname = target.screen_name\n",
    "num_tweets = target.statuses_count\n",
    "\n",
    "#get users tweets (last 100)\n",
    "count = 100\n",
    "tweets = tweepy.Cursor(auth_api.user_timeline, id=target_user).items(count)\n",
    "\n"
   ]
  },
  {
   "cell_type": "code",
   "execution_count": null,
   "metadata": {},
   "outputs": [],
   "source": []
  },
  {
   "cell_type": "code",
   "execution_count": null,
   "metadata": {},
   "outputs": [],
   "source": []
  },
  {
   "cell_type": "code",
   "execution_count": null,
   "metadata": {},
   "outputs": [],
   "source": []
  },
  {
   "cell_type": "code",
   "execution_count": null,
   "metadata": {},
   "outputs": [],
   "source": [
    "ids = []\n",
    "for page in tweepy.Cursor(api.followers_ids, user_id= 18272185).pages():\n",
    "    ids.extend(page)\n",
    "    time.sleep(60)\n"
   ]
  }
 ],
 "metadata": {
  "kernelspec": {
   "display_name": "Python 3",
   "language": "python",
   "name": "python3"
  },
  "language_info": {
   "codemirror_mode": {
    "name": "ipython",
    "version": 3
   },
   "file_extension": ".py",
   "mimetype": "text/x-python",
   "name": "python",
   "nbconvert_exporter": "python",
   "pygments_lexer": "ipython3",
   "version": "3.9.1"
  }
 },
 "nbformat": 4,
 "nbformat_minor": 4
}
